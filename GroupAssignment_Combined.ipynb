{
 "cells": [
  {
   "cell_type": "markdown",
   "id": "b94a9a63-5405-4776-9796-9c190b503e2f",
   "metadata": {},
   "source": [
    "# **Group Assignment** - Bike Sharing"
   ]
  },
  {
   "cell_type": "markdown",
   "id": "d85ed5e5-6e8e-4848-800d-d5c9c4675fcd",
   "metadata": {},
   "source": [
    "- `instant`: record index\n",
    "- `dteday` : date\n",
    "- `season` : season (1:spring, 2:summer, 3:fall, 4:winter)\n",
    "- `yr` : year (0: 2011, 1:2012)\n",
    "- `mnth` : month ( 1 to 12)\n",
    "- `hr` : hour (0 to 23)\n",
    "- `holiday` : wether day is holiday or not (extracted from http://dchr.dc.gov/page/holiday-schedule)\n",
    "- `weekday` : day of the week\n",
    "- `workingday` : if day is neither weekend nor holiday is 1, otherwise is 0.\n",
    "+ `weathersit` : \n",
    "\t- 1: Clear, Few clouds, Partly cloudy, Partly cloudy\n",
    "\t- 2: Mist + Cloudy, Mist + Broken clouds, Mist + Few clouds, Mist\n",
    "\t- 3: Light Snow, Light Rain + Thunderstorm + Scattered clouds, Light Rain + Scattered clouds\n",
    "\t- 4: Heavy Rain + Ice Pallets + Thunderstorm + Mist, Snow + Fog\n",
    "- `temp` : Normalized temperature in Celsius. The values are divided to 41 (max)\n",
    "- `atemp`: Normalized feeling temperature in Celsius. The values are divided to 50 (max)\n",
    "- `hum`: Normalized humidity. The values are divided to 100 (max)\n",
    "- `windspeed`: Normalized wind speed. The values are divided to 67 (max)\n",
    "- `casual`: count of casual users\n",
    "- `registered`: count of registered users\n",
    "- `cnt`: count of total rental bikes including both casual and registered"
   ]
  },
  {
   "cell_type": "code",
   "execution_count": 1,
   "id": "4c019532",
   "metadata": {},
   "outputs": [],
   "source": [
    "import pandas as pd\n",
    "import plotly.express as px\n",
    "import numpy as np\n",
    "import itertools"
   ]
  },
  {
   "cell_type": "code",
   "execution_count": 2,
   "id": "ccdf6859",
   "metadata": {},
   "outputs": [
    {
     "data": {
      "text/html": [
       "<div>\n",
       "<style scoped>\n",
       "    .dataframe tbody tr th:only-of-type {\n",
       "        vertical-align: middle;\n",
       "    }\n",
       "\n",
       "    .dataframe tbody tr th {\n",
       "        vertical-align: top;\n",
       "    }\n",
       "\n",
       "    .dataframe thead th {\n",
       "        text-align: right;\n",
       "    }\n",
       "</style>\n",
       "<table border=\"1\" class=\"dataframe\">\n",
       "  <thead>\n",
       "    <tr style=\"text-align: right;\">\n",
       "      <th></th>\n",
       "      <th>instant</th>\n",
       "      <th>dteday</th>\n",
       "      <th>season</th>\n",
       "      <th>yr</th>\n",
       "      <th>mnth</th>\n",
       "      <th>hr</th>\n",
       "      <th>holiday</th>\n",
       "      <th>weekday</th>\n",
       "      <th>workingday</th>\n",
       "      <th>weathersit</th>\n",
       "      <th>temp</th>\n",
       "      <th>atemp</th>\n",
       "      <th>hum</th>\n",
       "      <th>windspeed</th>\n",
       "      <th>casual</th>\n",
       "      <th>registered</th>\n",
       "      <th>cnt</th>\n",
       "    </tr>\n",
       "  </thead>\n",
       "  <tbody>\n",
       "    <tr>\n",
       "      <th>17374</th>\n",
       "      <td>17375</td>\n",
       "      <td>2012-12-31</td>\n",
       "      <td>1</td>\n",
       "      <td>1</td>\n",
       "      <td>12</td>\n",
       "      <td>19</td>\n",
       "      <td>0</td>\n",
       "      <td>1</td>\n",
       "      <td>1</td>\n",
       "      <td>2</td>\n",
       "      <td>0.26</td>\n",
       "      <td>0.2576</td>\n",
       "      <td>0.60</td>\n",
       "      <td>0.1642</td>\n",
       "      <td>11</td>\n",
       "      <td>108</td>\n",
       "      <td>119</td>\n",
       "    </tr>\n",
       "    <tr>\n",
       "      <th>17375</th>\n",
       "      <td>17376</td>\n",
       "      <td>2012-12-31</td>\n",
       "      <td>1</td>\n",
       "      <td>1</td>\n",
       "      <td>12</td>\n",
       "      <td>20</td>\n",
       "      <td>0</td>\n",
       "      <td>1</td>\n",
       "      <td>1</td>\n",
       "      <td>2</td>\n",
       "      <td>0.26</td>\n",
       "      <td>0.2576</td>\n",
       "      <td>0.60</td>\n",
       "      <td>0.1642</td>\n",
       "      <td>8</td>\n",
       "      <td>81</td>\n",
       "      <td>89</td>\n",
       "    </tr>\n",
       "    <tr>\n",
       "      <th>17376</th>\n",
       "      <td>17377</td>\n",
       "      <td>2012-12-31</td>\n",
       "      <td>1</td>\n",
       "      <td>1</td>\n",
       "      <td>12</td>\n",
       "      <td>21</td>\n",
       "      <td>0</td>\n",
       "      <td>1</td>\n",
       "      <td>1</td>\n",
       "      <td>1</td>\n",
       "      <td>0.26</td>\n",
       "      <td>0.2576</td>\n",
       "      <td>0.60</td>\n",
       "      <td>0.1642</td>\n",
       "      <td>7</td>\n",
       "      <td>83</td>\n",
       "      <td>90</td>\n",
       "    </tr>\n",
       "    <tr>\n",
       "      <th>17377</th>\n",
       "      <td>17378</td>\n",
       "      <td>2012-12-31</td>\n",
       "      <td>1</td>\n",
       "      <td>1</td>\n",
       "      <td>12</td>\n",
       "      <td>22</td>\n",
       "      <td>0</td>\n",
       "      <td>1</td>\n",
       "      <td>1</td>\n",
       "      <td>1</td>\n",
       "      <td>0.26</td>\n",
       "      <td>0.2727</td>\n",
       "      <td>0.56</td>\n",
       "      <td>0.1343</td>\n",
       "      <td>13</td>\n",
       "      <td>48</td>\n",
       "      <td>61</td>\n",
       "    </tr>\n",
       "    <tr>\n",
       "      <th>17378</th>\n",
       "      <td>17379</td>\n",
       "      <td>2012-12-31</td>\n",
       "      <td>1</td>\n",
       "      <td>1</td>\n",
       "      <td>12</td>\n",
       "      <td>23</td>\n",
       "      <td>0</td>\n",
       "      <td>1</td>\n",
       "      <td>1</td>\n",
       "      <td>1</td>\n",
       "      <td>0.26</td>\n",
       "      <td>0.2727</td>\n",
       "      <td>0.65</td>\n",
       "      <td>0.1343</td>\n",
       "      <td>12</td>\n",
       "      <td>37</td>\n",
       "      <td>49</td>\n",
       "    </tr>\n",
       "  </tbody>\n",
       "</table>\n",
       "</div>"
      ],
      "text/plain": [
       "       instant      dteday  season  yr  mnth  hr  holiday  weekday  \\\n",
       "17374    17375  2012-12-31       1   1    12  19        0        1   \n",
       "17375    17376  2012-12-31       1   1    12  20        0        1   \n",
       "17376    17377  2012-12-31       1   1    12  21        0        1   \n",
       "17377    17378  2012-12-31       1   1    12  22        0        1   \n",
       "17378    17379  2012-12-31       1   1    12  23        0        1   \n",
       "\n",
       "       workingday  weathersit  temp   atemp   hum  windspeed  casual  \\\n",
       "17374           1           2  0.26  0.2576  0.60     0.1642      11   \n",
       "17375           1           2  0.26  0.2576  0.60     0.1642       8   \n",
       "17376           1           1  0.26  0.2576  0.60     0.1642       7   \n",
       "17377           1           1  0.26  0.2727  0.56     0.1343      13   \n",
       "17378           1           1  0.26  0.2727  0.65     0.1343      12   \n",
       "\n",
       "       registered  cnt  \n",
       "17374         108  119  \n",
       "17375          81   89  \n",
       "17376          83   90  \n",
       "17377          48   61  \n",
       "17378          37   49  "
      ]
     },
     "execution_count": 2,
     "metadata": {},
     "output_type": "execute_result"
    }
   ],
   "source": [
    "data = pd.read_csv('hour.csv')\n",
    "data.tail()"
   ]
  },
  {
   "cell_type": "markdown",
   "id": "98fd15ee-3dab-4626-a3fe-f3dea434b71c",
   "metadata": {},
   "source": [
    "## PART I: Exploratory Data Analysis"
   ]
  },
  {
   "cell_type": "markdown",
   "id": "13e05e8b",
   "metadata": {},
   "source": [
    "### 1.1 Data Cleaning"
   ]
  },
  {
   "cell_type": "markdown",
   "id": "59e9cf85",
   "metadata": {},
   "source": [
    "#### 1.1.1 Verifying and setting Datatypes\n",
    "As can be seen from the below table, every value in the table contains the datatype \"int64\" (integer) or \"float64\" (float). The only exception is the dteday column which holds the date."
   ]
  },
  {
   "cell_type": "code",
   "execution_count": 3,
   "id": "f456cffd-2d57-41ab-9809-b6da5f579bd1",
   "metadata": {},
   "outputs": [
    {
     "name": "stdout",
     "output_type": "stream",
     "text": [
      "<class 'pandas.core.frame.DataFrame'>\n",
      "RangeIndex: 17379 entries, 0 to 17378\n",
      "Data columns (total 17 columns):\n",
      " #   Column      Non-Null Count  Dtype  \n",
      "---  ------      --------------  -----  \n",
      " 0   instant     17379 non-null  int64  \n",
      " 1   dteday      17379 non-null  object \n",
      " 2   season      17379 non-null  int64  \n",
      " 3   yr          17379 non-null  int64  \n",
      " 4   mnth        17379 non-null  int64  \n",
      " 5   hr          17379 non-null  int64  \n",
      " 6   holiday     17379 non-null  int64  \n",
      " 7   weekday     17379 non-null  int64  \n",
      " 8   workingday  17379 non-null  int64  \n",
      " 9   weathersit  17379 non-null  int64  \n",
      " 10  temp        17379 non-null  float64\n",
      " 11  atemp       17379 non-null  float64\n",
      " 12  hum         17379 non-null  float64\n",
      " 13  windspeed   17379 non-null  float64\n",
      " 14  casual      17379 non-null  int64  \n",
      " 15  registered  17379 non-null  int64  \n",
      " 16  cnt         17379 non-null  int64  \n",
      "dtypes: float64(4), int64(12), object(1)\n",
      "memory usage: 2.3+ MB\n"
     ]
    }
   ],
   "source": [
    "#Checking Data Structure\n",
    "data.info()"
   ]
  },
  {
   "cell_type": "code",
   "execution_count": 4,
   "id": "b8bb6c11",
   "metadata": {},
   "outputs": [],
   "source": [
    "#Setting instant column as index\n",
    "data = data.set_index('instant')\n",
    "#Applying correct Data Types\n",
    "data['dteday'] = pd.to_datetime(data['dteday'], format='%Y-%m-%d')"
   ]
  },
  {
   "cell_type": "markdown",
   "id": "5fec8f18",
   "metadata": {},
   "source": [
    "#### 1.1.2 Checking for Duplicates, Null and Zero Values\n",
    "It is essential to verify the completeness and integrity of data. Here we checked for null values and duplicated data. The function **return_rows_with_all_zero_values** checks whether the data contains rows that have all zero values. This is important to check as these rows will not be identified as null in the above column, however they would still need to be cleaned.\n",
    "- The below analysis reveals that there are no duplicates or null values in the dataset. There are also no columns with all zero values. This means no data needs to be imputed or dropped to ensure data integrity."
   ]
  },
  {
   "cell_type": "code",
   "execution_count": 5,
   "id": "5e1609d4",
   "metadata": {},
   "outputs": [
    {
     "data": {
      "text/plain": [
       "dteday        0\n",
       "season        0\n",
       "yr            0\n",
       "mnth          0\n",
       "hr            0\n",
       "holiday       0\n",
       "weekday       0\n",
       "workingday    0\n",
       "weathersit    0\n",
       "temp          0\n",
       "atemp         0\n",
       "hum           0\n",
       "windspeed     0\n",
       "casual        0\n",
       "registered    0\n",
       "cnt           0\n",
       "dtype: int64"
      ]
     },
     "execution_count": 5,
     "metadata": {},
     "output_type": "execute_result"
    }
   ],
   "source": [
    "#count empty values in columns. This shows there are no rows with empty columns\n",
    "data.isna().sum()"
   ]
  },
  {
   "cell_type": "code",
   "execution_count": 6,
   "id": "f652d473",
   "metadata": {},
   "outputs": [
    {
     "data": {
      "text/plain": [
       "0"
      ]
     },
     "execution_count": 6,
     "metadata": {},
     "output_type": "execute_result"
    }
   ],
   "source": [
    "#Shows how many duplicates there are in the dataframe\n",
    "data.duplicated().sum()"
   ]
  },
  {
   "cell_type": "code",
   "execution_count": 7,
   "id": "d5db0d7b",
   "metadata": {},
   "outputs": [
    {
     "name": "stdout",
     "output_type": "stream",
     "text": [
      "There are 0 rows with all zeros\n"
     ]
    }
   ],
   "source": [
    "def return_rows_with_all_zero(df, relevant_columns):\n",
    "    mask = (df[relevant_columns].isna() | (df[relevant_columns] == 0)).all(axis=1) \n",
    "    return df[mask]\n",
    "print(f\"There are {len(return_rows_with_all_zero(data, data.select_dtypes(['number']).columns))} rows with all zeros\")"
   ]
  },
  {
   "cell_type": "markdown",
   "metadata": {},
   "source": [
    "#### 1.1.3 Denormalizing Values\n",
    "The values in the dataset have been normalized by dividing them by a specific number. As we do not know the context or reason behind this, we are denormalizing them and returning them to their original values in the below code. This also allows a more meaningful exploratory data analysis (EDA)."
   ]
  },
  {
   "cell_type": "code",
   "execution_count": 8,
   "metadata": {},
   "outputs": [],
   "source": [
    "#temp, atemp, hum, windspeed\n",
    "\n",
    "data['temp'] = data['temp'] * 41\n",
    "data['atemp'] = data['atemp'] * 50\n",
    "data['hum'] = data['hum'] * 100\n",
    "data['windspeed'] = data['windspeed'] * 67"
   ]
  },
  {
   "cell_type": "code",
   "execution_count": 9,
   "id": "9588cd25",
   "metadata": {},
   "outputs": [
    {
     "name": "stdout",
     "output_type": "stream",
     "text": [
      "The highest values in column 'dteday' is 2012-12-31 00:00:00\n",
      "The highest values in column 'season' is 4\n",
      "The highest values in column 'yr' is 1\n",
      "The highest values in column 'mnth' is 12\n",
      "The highest values in column 'hr' is 23\n",
      "The highest values in column 'holiday' is 1\n",
      "The highest values in column 'weekday' is 6\n",
      "The highest values in column 'workingday' is 1\n",
      "The highest values in column 'weathersit' is 4\n",
      "The highest values in column 'temp' is 41.0\n",
      "The highest values in column 'atemp' is 50.0\n",
      "The highest values in column 'hum' is 100.0\n",
      "The highest values in column 'windspeed' is 56.996900000000004\n",
      "The highest values in column 'casual' is 367\n",
      "The highest values in column 'registered' is 886\n",
      "The highest values in column 'cnt' is 977\n"
     ]
    }
   ],
   "source": [
    "for col in data.columns:\n",
    "    print(f\"The highest values in column '{col}' is {data[col].max()}\")"
   ]
  },
  {
   "cell_type": "markdown",
   "id": "d278814c",
   "metadata": {},
   "source": [
    "#### 1.1.4 Verifying Season Behaviour\n",
    "The dataset claims to split the data by season(1: Spring, 2: Summer, 3: Autumn, 4: Winter). To verify how this is being split we are running the following code. From the output we can see the data is being split by quarter and that at least some labels do not match the description from the dataset. Instead the following seasons apply, based on the following [data](https://www.timeanddate.com/calendar/seasons.html?n=263). The actual seasons is in brackets below:\n",
    "- The following start and end dates seem to be observable:\n",
    "    - Season 1 (Winter): 20 December - 20 March\n",
    "    - Season 2 (Spring): 21 March - 20 June\n",
    "    - Season 3 (Summer): 21 June - 22 September\n",
    "    - Season 4 (Autumn) 23 September - 19 December\n",
    "- We also checked if any data is missing in the time series. None is missing.\n"
   ]
  },
  {
   "cell_type": "code",
   "execution_count": 10,
   "id": "954843a6",
   "metadata": {},
   "outputs": [
    {
     "name": "stdout",
     "output_type": "stream",
     "text": [
      "The min day for season 1 is 2011-01-01 00:00:00 and the max day is 2011-12-31 00:00:00\n",
      "The min day for season 2 is 2011-03-21 00:00:00 and the max day is 2011-06-20 00:00:00\n",
      "The min day for season 3 is 2011-06-21 00:00:00 and the max day is 2011-09-22 00:00:00\n",
      "The min day for season 4 is 2011-09-23 00:00:00 and the max day is 2011-12-20 00:00:00\n"
     ]
    }
   ],
   "source": [
    "for season in data['season'].unique():\n",
    "    min_day = data[(data['season'] == season) & (data['yr'] == 0)]['dteday'].min()\n",
    "    max_day = data[(data['season'] == season) & (data['yr'] == 0)]['dteday'].max()\n",
    "    print(f\"The min day for season {season} is {min_day} and the max day is {max_day}\")"
   ]
  },
  {
   "cell_type": "markdown",
   "id": "fd435fb0",
   "metadata": {},
   "source": [
    "#### 1.1.5 Checking for missing data in timeseries\n",
    "To verify the completeness of the time series, data for all days shows be available. The below code ensures there is no missing points in the time series."
   ]
  },
  {
   "cell_type": "code",
   "execution_count": 11,
   "id": "51dc0729",
   "metadata": {},
   "outputs": [
    {
     "name": "stdout",
     "output_type": "stream",
     "text": [
      "Missing Dates:\n",
      "DatetimeIndex([], dtype='datetime64[ns]', freq='D')\n"
     ]
    }
   ],
   "source": [
    "# Define the complete date range from the min to max date in the date column\n",
    "full_date_range = pd.date_range(start=data['dteday'].min(), end=data['dteday'].max(), freq='D')\n",
    "\n",
    "# Identify the missing dates\n",
    "missing_dates = full_date_range.difference(data['dteday'])\n",
    "\n",
    "print(\"Missing Dates:\")\n",
    "print(missing_dates)"
   ]
  },
  {
   "cell_type": "code",
   "execution_count": null,
   "id": "5b1b5ba2",
   "metadata": {},
   "outputs": [
    {
     "name": "stdout",
     "output_type": "stream",
     "text": [
      "Missing Date-Hour Combinations:\n"
     ]
    },
    {
     "data": {
      "text/plain": [
       "Index([   29,    50,    51,    75,    99,   123,   147,   243,   244,   267,\n",
       "       ...\n",
       "       16039, 16040, 16041, 16042, 16043, 16044, 16251, 16755, 17356, 17379],\n",
       "      dtype='int64', length=165)"
      ]
     },
     "execution_count": 19,
     "metadata": {},
     "output_type": "execute_result"
    }
   ],
   "source": [
    "import itertools\n",
    "\n",
    "full_date_range = pd.date_range(start=data['dteday'].min(), end=data['dteday'].max(), freq='D')\n",
    "\n",
    "# Define the complete range of hours (0-23)\n",
    "full_hour_range = range(24)\n",
    "\n",
    "# Create all possible combinations of dates and hours using itertools\n",
    "all_date_hour_combinations = pd.DataFrame(\n",
    "    list(itertools.product(full_date_range, full_hour_range)),\n",
    "    columns=['dteday', 'hr']\n",
    ")\n",
    "\n",
    "# Merge with the original data to find missing date-hour combinations\n",
    "merged = all_date_hour_combinations.merge(data[['dteday', 'hr']], on=['dteday', 'hr'], how='left', indicator=True)\n",
    "\n",
    "# Filter out the rows that are missing in the original data\n",
    "missing_date_hours = merged[merged['_merge'] == 'left_only'][['dteday', 'hr']]\n",
    "\n",
    "print(\"Missing Date-Hour Combinations:\")\n",
    "missing_date_hours"
   ]
  },
  {
   "cell_type": "markdown",
   "id": "0f146a20",
   "metadata": {},
   "source": [
    "### 1.2 Feature engineering"
   ]
  },
  {
   "cell_type": "markdown",
   "id": "0f955c71",
   "metadata": {},
   "source": [
    "#### 1.2.1 Adding day variable from date column"
   ]
  },
  {
   "cell_type": "code",
   "execution_count": 13,
   "id": "6af83e8d",
   "metadata": {},
   "outputs": [
    {
     "data": {
      "text/html": [
       "<div>\n",
       "<style scoped>\n",
       "    .dataframe tbody tr th:only-of-type {\n",
       "        vertical-align: middle;\n",
       "    }\n",
       "\n",
       "    .dataframe tbody tr th {\n",
       "        vertical-align: top;\n",
       "    }\n",
       "\n",
       "    .dataframe thead th {\n",
       "        text-align: right;\n",
       "    }\n",
       "</style>\n",
       "<table border=\"1\" class=\"dataframe\">\n",
       "  <thead>\n",
       "    <tr style=\"text-align: right;\">\n",
       "      <th></th>\n",
       "      <th>dteday</th>\n",
       "      <th>season</th>\n",
       "      <th>yr</th>\n",
       "      <th>mnth</th>\n",
       "      <th>hr</th>\n",
       "      <th>holiday</th>\n",
       "      <th>weekday</th>\n",
       "      <th>workingday</th>\n",
       "      <th>weathersit</th>\n",
       "      <th>temp</th>\n",
       "      <th>atemp</th>\n",
       "      <th>hum</th>\n",
       "      <th>windspeed</th>\n",
       "      <th>casual</th>\n",
       "      <th>registered</th>\n",
       "      <th>cnt</th>\n",
       "      <th>day_of_month</th>\n",
       "    </tr>\n",
       "    <tr>\n",
       "      <th>instant</th>\n",
       "      <th></th>\n",
       "      <th></th>\n",
       "      <th></th>\n",
       "      <th></th>\n",
       "      <th></th>\n",
       "      <th></th>\n",
       "      <th></th>\n",
       "      <th></th>\n",
       "      <th></th>\n",
       "      <th></th>\n",
       "      <th></th>\n",
       "      <th></th>\n",
       "      <th></th>\n",
       "      <th></th>\n",
       "      <th></th>\n",
       "      <th></th>\n",
       "      <th></th>\n",
       "    </tr>\n",
       "  </thead>\n",
       "  <tbody>\n",
       "    <tr>\n",
       "      <th>1</th>\n",
       "      <td>2011-01-01</td>\n",
       "      <td>1</td>\n",
       "      <td>0</td>\n",
       "      <td>1</td>\n",
       "      <td>0</td>\n",
       "      <td>0</td>\n",
       "      <td>6</td>\n",
       "      <td>0</td>\n",
       "      <td>1</td>\n",
       "      <td>9.84</td>\n",
       "      <td>14.395</td>\n",
       "      <td>81.0</td>\n",
       "      <td>0.0</td>\n",
       "      <td>3</td>\n",
       "      <td>13</td>\n",
       "      <td>16</td>\n",
       "      <td>1</td>\n",
       "    </tr>\n",
       "    <tr>\n",
       "      <th>2</th>\n",
       "      <td>2011-01-01</td>\n",
       "      <td>1</td>\n",
       "      <td>0</td>\n",
       "      <td>1</td>\n",
       "      <td>1</td>\n",
       "      <td>0</td>\n",
       "      <td>6</td>\n",
       "      <td>0</td>\n",
       "      <td>1</td>\n",
       "      <td>9.02</td>\n",
       "      <td>13.635</td>\n",
       "      <td>80.0</td>\n",
       "      <td>0.0</td>\n",
       "      <td>8</td>\n",
       "      <td>32</td>\n",
       "      <td>40</td>\n",
       "      <td>1</td>\n",
       "    </tr>\n",
       "    <tr>\n",
       "      <th>3</th>\n",
       "      <td>2011-01-01</td>\n",
       "      <td>1</td>\n",
       "      <td>0</td>\n",
       "      <td>1</td>\n",
       "      <td>2</td>\n",
       "      <td>0</td>\n",
       "      <td>6</td>\n",
       "      <td>0</td>\n",
       "      <td>1</td>\n",
       "      <td>9.02</td>\n",
       "      <td>13.635</td>\n",
       "      <td>80.0</td>\n",
       "      <td>0.0</td>\n",
       "      <td>5</td>\n",
       "      <td>27</td>\n",
       "      <td>32</td>\n",
       "      <td>1</td>\n",
       "    </tr>\n",
       "    <tr>\n",
       "      <th>4</th>\n",
       "      <td>2011-01-01</td>\n",
       "      <td>1</td>\n",
       "      <td>0</td>\n",
       "      <td>1</td>\n",
       "      <td>3</td>\n",
       "      <td>0</td>\n",
       "      <td>6</td>\n",
       "      <td>0</td>\n",
       "      <td>1</td>\n",
       "      <td>9.84</td>\n",
       "      <td>14.395</td>\n",
       "      <td>75.0</td>\n",
       "      <td>0.0</td>\n",
       "      <td>3</td>\n",
       "      <td>10</td>\n",
       "      <td>13</td>\n",
       "      <td>1</td>\n",
       "    </tr>\n",
       "    <tr>\n",
       "      <th>5</th>\n",
       "      <td>2011-01-01</td>\n",
       "      <td>1</td>\n",
       "      <td>0</td>\n",
       "      <td>1</td>\n",
       "      <td>4</td>\n",
       "      <td>0</td>\n",
       "      <td>6</td>\n",
       "      <td>0</td>\n",
       "      <td>1</td>\n",
       "      <td>9.84</td>\n",
       "      <td>14.395</td>\n",
       "      <td>75.0</td>\n",
       "      <td>0.0</td>\n",
       "      <td>0</td>\n",
       "      <td>1</td>\n",
       "      <td>1</td>\n",
       "      <td>1</td>\n",
       "    </tr>\n",
       "  </tbody>\n",
       "</table>\n",
       "</div>"
      ],
      "text/plain": [
       "            dteday  season  yr  mnth  hr  holiday  weekday  workingday  \\\n",
       "instant                                                                  \n",
       "1       2011-01-01       1   0     1   0        0        6           0   \n",
       "2       2011-01-01       1   0     1   1        0        6           0   \n",
       "3       2011-01-01       1   0     1   2        0        6           0   \n",
       "4       2011-01-01       1   0     1   3        0        6           0   \n",
       "5       2011-01-01       1   0     1   4        0        6           0   \n",
       "\n",
       "         weathersit  temp   atemp   hum  windspeed  casual  registered  cnt  \\\n",
       "instant                                                                       \n",
       "1                 1  9.84  14.395  81.0        0.0       3          13   16   \n",
       "2                 1  9.02  13.635  80.0        0.0       8          32   40   \n",
       "3                 1  9.02  13.635  80.0        0.0       5          27   32   \n",
       "4                 1  9.84  14.395  75.0        0.0       3          10   13   \n",
       "5                 1  9.84  14.395  75.0        0.0       0           1    1   \n",
       "\n",
       "         day_of_month  \n",
       "instant                \n",
       "1                   1  \n",
       "2                   1  \n",
       "3                   1  \n",
       "4                   1  \n",
       "5                   1  "
      ]
     },
     "execution_count": 13,
     "metadata": {},
     "output_type": "execute_result"
    }
   ],
   "source": [
    "#adding day column\n",
    "data['day_of_month'] = data['dteday'].dt.day\n",
    "data.head()"
   ]
  },
  {
   "cell_type": "markdown",
   "id": "ab1cbf42",
   "metadata": {},
   "source": [
    "#### 1.2.1 Adding New Seasons\n",
    "As identifified in the data cleaning process, the season column is encoded in a strange way. As such new columns are added to better consider the seasons. Which column is the best to use can be later determined in the model training and evaluation process."
   ]
  },
  {
   "cell_type": "code",
   "execution_count": 14,
   "id": "7b60070a",
   "metadata": {},
   "outputs": [],
   "source": [
    "data['fiscal_quarter'] = data['dteday'].dt.quarter\n"
   ]
  },
  {
   "cell_type": "markdown",
   "id": "d406bbdf",
   "metadata": {},
   "source": [
    "#### 1.2.2 Rush Hour Variable.\n",
    "Data retreived from: https://www.commuterconnections.org/wp-content/uploads/SOC-2022-At-a-Glance-Commute-Patterns.pdf\n",
    "\n",
    "where:\n",
    "- 0 = Early Morning (12 AM - 6 AM)\n",
    "- 1 = Morning Rush (6 AM - 10 AM)\n",
    "- 2 = Midday (10 AM - 3 PM)\n",
    "- 3 = Evening Rush (3 PM - 7 PM)\n",
    "- 4 = Night (7 PM - 12 AM)"
   ]
  },
  {
   "cell_type": "code",
   "execution_count": 15,
   "id": "39012259",
   "metadata": {},
   "outputs": [],
   "source": [
    "def categorize_hour(hour):\n",
    "    if 0 <= hour < 6:\n",
    "        return 0\n",
    "    elif 6 <= hour < 10:\n",
    "        return 1\n",
    "    elif 10 <= hour < 15:\n",
    "        return 2\n",
    "    elif 15 <= hour < 19:\n",
    "        return 3\n",
    "    else:\n",
    "        return 4\n",
    "\n",
    "data['hour_category'] = data['hr'].apply(categorize_hour)"
   ]
  },
  {
   "cell_type": "markdown",
   "id": "385fa84d",
   "metadata": {},
   "source": [
    "#### 1.2.3 Rain/Snow Variable\n",
    "Where: 0 = no rain or snow | 1 = rain or snow"
   ]
  },
  {
   "cell_type": "code",
   "execution_count": null,
   "id": "e389131b",
   "metadata": {},
   "outputs": [],
   "source": [
    "def categorize_weather(weathersit):\n",
    "    if 1 <= weathersit < 3:\n",
    "        return 0\n",
    "    else:\n",
    "        return 1\n",
    "\n",
    "data['rain_snow'] = data['weathersit'].apply(categorize_weather)\n"
   ]
  },
  {
   "cell_type": "markdown",
   "id": "ba26a257",
   "metadata": {},
   "source": [
    "### 1.3 Exploratory Data Analysis (EDA)"
   ]
  },
  {
   "cell_type": "markdown",
   "id": "4bbab68f-8197-4ea0-a8cd-56773e5772a7",
   "metadata": {},
   "source": [
    "## PART II: Prediction Model"
   ]
  },
  {
   "cell_type": "code",
   "execution_count": null,
   "id": "0e28f056-2c4d-4281-b6da-db24627d46e8",
   "metadata": {},
   "outputs": [],
   "source": []
  },
  {
   "cell_type": "markdown",
   "id": "e69e4af7-0cc1-4488-83ad-33662479edad",
   "metadata": {},
   "source": [
    "## PART III: Streamlit dashboard"
   ]
  },
  {
   "cell_type": "code",
   "execution_count": 16,
   "id": "08ea8b51-cd49-40d5-8946-f567aaf68de2",
   "metadata": {},
   "outputs": [],
   "source": [
    "### This part goes in a separate script ###"
   ]
  }
 ],
 "metadata": {
  "kernelspec": {
   "display_name": "pda-ie",
   "language": "python",
   "name": "python3"
  },
  "language_info": {
   "codemirror_mode": {
    "name": "ipython",
    "version": 3
   },
   "file_extension": ".py",
   "mimetype": "text/x-python",
   "name": "python",
   "nbconvert_exporter": "python",
   "pygments_lexer": "ipython3",
   "version": "3.11.10"
  }
 },
 "nbformat": 4,
 "nbformat_minor": 5
}
